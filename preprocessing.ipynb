{
 "cells": [
  {
   "cell_type": "code",
   "execution_count": 14,
   "metadata": {},
   "outputs": [],
   "source": [
    "import pandas as pd"
   ]
  },
  {
   "cell_type": "code",
   "execution_count": 15,
   "metadata": {},
   "outputs": [],
   "source": [
    "data=pd.read_csv('RTA Dataset.csv')\n",
    "df=data.copy()"
   ]
  },
  {
   "attachments": {},
   "cell_type": "markdown",
   "metadata": {},
   "source": [
    "Kiểu dữ liệu của mỗi cột"
   ]
  },
  {
   "cell_type": "code",
   "execution_count": 16,
   "metadata": {},
   "outputs": [
    {
     "data": {
      "text/plain": [
       "{'Time': {str},\n",
       " 'Day_of_week': {str},\n",
       " 'Age_band_of_driver': {str},\n",
       " 'Sex_of_driver': {str},\n",
       " 'Educational_level': {float, str},\n",
       " 'Vehicle_driver_relation': {float, str},\n",
       " 'Driving_experience': {float, str},\n",
       " 'Type_of_vehicle': {float, str},\n",
       " 'Owner_of_vehicle': {float, str},\n",
       " 'Service_year_of_vehicle': {float, str},\n",
       " 'Defect_of_vehicle': {float, str},\n",
       " 'Area_accident_occured': {float, str},\n",
       " 'Lanes_or_Medians': {float, str},\n",
       " 'Road_allignment': {float, str},\n",
       " 'Types_of_Junction': {float, str},\n",
       " 'Road_surface_type': {float, str},\n",
       " 'Road_surface_conditions': {str},\n",
       " 'Light_conditions': {str},\n",
       " 'Weather_conditions': {str},\n",
       " 'Type_of_collision': {float, str},\n",
       " 'Vehicle_movement': {float, str},\n",
       " 'Casualty_class': {str},\n",
       " 'Sex_of_casualty': {str},\n",
       " 'Age_band_of_casualty': {str},\n",
       " 'Casualty_severity': {str},\n",
       " 'Work_of_casuality': {float, str},\n",
       " 'Fitness_of_casuality': {float, str},\n",
       " 'Pedestrian_movement': {str},\n",
       " 'Cause_of_accident': {str},\n",
       " 'Accident_severity': {str}}"
      ]
     },
     "execution_count": 16,
     "metadata": {},
     "output_type": "execute_result"
    }
   ],
   "source": [
    "cols_name = df.columns\n",
    "def open_object_dtype(s):\n",
    "    dtypes = set()\n",
    "    \n",
    "    #Ta sẽ append lần lượt các type của từng s[i] vào trong set\n",
    "    ##Thì chắc chắn rằng bên trong dtypes sẽ chỉ có một kiểu duy nhất, cho nên rằng set này chỉ chứa 1 phần tử\n",
    "    \n",
    "    ##Chúng ta lấy ra một series dùng apply với hàm type lên tất cả các s[i]\n",
    "    object_series = s.apply(type)\n",
    "    \n",
    "    ##Sau đó dùng chính hàm dtypes.add để apply vô series object_series vừa xử lý xong\n",
    "    object_series.apply(dtypes.add)\n",
    "    return dtypes\n",
    "\n",
    "##Vì trong danh sách các cột, số lượng object khá nhiều cho nên rằng chúng ta sẽ loop qua các danh sách\n",
    "cols_type_dict = {}\n",
    "for col_name in cols_name:\n",
    "    if df[col_name].dtype == 'object':\n",
    "        cols_type_dict[col_name] = open_object_dtype(df[col_name])\n",
    "        \n",
    "cols_type_dict"
   ]
  },
  {
   "attachments": {},
   "cell_type": "markdown",
   "metadata": {},
   "source": [
    "Có một số cột chứa hai kiểu dữ liệu là float và string nên ta cần tiền xử lý kiểu dữ liệu. Một số giá trị nhận kiểu float vì là Nan. Nên ở các cột đó ta cần chuyển về string và xử lý các chỗ bị Nan."
   ]
  },
  {
   "attachments": {},
   "cell_type": "markdown",
   "metadata": {},
   "source": [
    "Thể hiện phần trăm bị thiếu dữ liệu của các cột"
   ]
  },
  {
   "cell_type": "code",
   "execution_count": 17,
   "metadata": {},
   "outputs": [
    {
     "data": {
      "text/plain": [
       "Time                            0.000000\n",
       "Day_of_week                     0.000000\n",
       "Age_band_of_driver              0.000000\n",
       "Sex_of_driver                   0.000000\n",
       "Educational_level               6.016564\n",
       "Vehicle_driver_relation         4.701202\n",
       "Driving_experience              6.731082\n",
       "Type_of_vehicle                 7.713543\n",
       "Owner_of_vehicle                3.913608\n",
       "Service_year_of_vehicle        31.893472\n",
       "Defect_of_vehicle              35.945112\n",
       "Area_accident_occured           1.940565\n",
       "Lanes_or_Medians                3.126015\n",
       "Road_allignment                 1.152972\n",
       "Types_of_Junction               7.202014\n",
       "Road_surface_type               1.396557\n",
       "Road_surface_conditions         0.000000\n",
       "Light_conditions                0.000000\n",
       "Weather_conditions              0.000000\n",
       "Type_of_collision               1.258525\n",
       "Number_of_vehicles_involved     0.000000\n",
       "Number_of_casualties            0.000000\n",
       "Vehicle_movement                2.500812\n",
       "Casualty_class                  0.000000\n",
       "Sex_of_casualty                 0.000000\n",
       "Age_band_of_casualty            0.000000\n",
       "Casualty_severity               0.000000\n",
       "Work_of_casuality              25.966223\n",
       "Fitness_of_casuality           21.394933\n",
       "Pedestrian_movement             0.000000\n",
       "Cause_of_accident               0.000000\n",
       "Accident_severity               0.000000\n",
       "dtype: float64"
      ]
     },
     "execution_count": 17,
     "metadata": {},
     "output_type": "execute_result"
    }
   ],
   "source": [
    "df.isnull().sum() * 100 / len(df) \n"
   ]
  },
  {
   "attachments": {},
   "cell_type": "markdown",
   "metadata": {},
   "source": [
    "Xóa các cột bị thiếu dữ liệu quá nhiều, hoặc các cột chứa thông tin không quá quan trọng về các vụ tai nạn cũng như nguyên nhân."
   ]
  },
  {
   "cell_type": "code",
   "execution_count": 18,
   "metadata": {},
   "outputs": [],
   "source": [
    "df = df.drop(columns=['Casualty_class','Sex_of_casualty',\n",
    "                      'Age_band_of_casualty','Casualty_severity',\n",
    "                      'Fitness_of_casuality','Defect_of_vehicle',\n",
    "                      'Pedestrian_movement','Work_of_casuality',\n",
    "                      'Work_of_casuality','Service_year_of_vehicle',\n",
    "                      'Vehicle_driver_relation','Owner_of_vehicle'])"
   ]
  },
  {
   "cell_type": "code",
   "execution_count": 19,
   "metadata": {},
   "outputs": [],
   "source": [
    "#Chuyển cột Time sang kiểu dữ liệu thời gian, cụ thể là hour.\n",
    "df['Time'] = pd.to_datetime(df['Time'],format= '%H:%M:%S' ).dt.time"
   ]
  },
  {
   "cell_type": "code",
   "execution_count": 20,
   "metadata": {},
   "outputs": [],
   "source": [
    "#Điền chỗ khuyết bằng mode\n",
    "df['Educational_level'].fillna(df['Educational_level'].mode()[0],inplace=True)"
   ]
  },
  {
   "cell_type": "code",
   "execution_count": 21,
   "metadata": {},
   "outputs": [],
   "source": [
    "\n",
    "df['Type_of_vehicle'] = df['Type_of_vehicle'].str.replace(r'\\([^)]*\\)', '',regex=True).str.strip()\n",
    "df['Type_of_vehicle'].fillna(df['Type_of_vehicle'].mode()[0],inplace=True)\n",
    "\n"
   ]
  },
  {
   "cell_type": "code",
   "execution_count": 22,
   "metadata": {},
   "outputs": [],
   "source": [
    "#Thay thế một số từ bằng một số ký tự\n",
    "df['Driving_experience'] = df['Driving_experience'].str.replace('Above', '>')\n",
    "df['Driving_experience'] = df['Driving_experience'].str.replace('yr', '')\n",
    "df['Driving_experience'] = df['Driving_experience'].str.replace('Below', '<')\n",
    "#Thay thế nan bằng unknown\n",
    "df['Driving_experience'] = df['Driving_experience'].fillna('unknown')"
   ]
  },
  {
   "cell_type": "code",
   "execution_count": 23,
   "metadata": {},
   "outputs": [],
   "source": [
    "#Thay thế các giá trị khuyết bằng mode\n",
    "df['Area_accident_occured'].fillna(df['Area_accident_occured'].mode()[0],inplace=True)\n",
    "df['Lanes_or_Medians'].fillna(df['Lanes_or_Medians'].mode()[0],inplace=True)\n",
    "df['Road_allignment'].fillna(df['Road_allignment'].mode()[0],inplace=True)\n",
    "df['Road_surface_type'].fillna(df['Road_surface_type'].mode()[0],inplace=True)\n",
    "df['Type_of_collision'].fillna(df['Type_of_collision'].mode()[0],inplace=True)\n",
    "df['Vehicle_movement'].fillna(df['Vehicle_movement'].mode()[0],inplace=True)\n",
    "df['Types_of_Junction'].fillna(df['Types_of_Junction'].mode()[0],inplace=True)    "
   ]
  },
  {
   "cell_type": "code",
   "execution_count": 24,
   "metadata": {},
   "outputs": [],
   "source": [
    "df['Accident_severity'] = df['Accident_severity'].replace('Slight Injury','1',regex=True)\n",
    "df['Accident_severity'] = df['Accident_severity'].replace('Serious Injury','2',regex=True)\n",
    "df['Accident_severity'] = df['Accident_severity'].replace('Fatal injury','3',regex=True)\n"
   ]
  },
  {
   "attachments": {},
   "cell_type": "markdown",
   "metadata": {},
   "source": [
    "Không còn cột nào bị thiếu."
   ]
  },
  {
   "cell_type": "code",
   "execution_count": 25,
   "metadata": {},
   "outputs": [
    {
     "data": {
      "text/plain": [
       "Time                           0.0\n",
       "Day_of_week                    0.0\n",
       "Age_band_of_driver             0.0\n",
       "Sex_of_driver                  0.0\n",
       "Educational_level              0.0\n",
       "Driving_experience             0.0\n",
       "Type_of_vehicle                0.0\n",
       "Area_accident_occured          0.0\n",
       "Lanes_or_Medians               0.0\n",
       "Road_allignment                0.0\n",
       "Types_of_Junction              0.0\n",
       "Road_surface_type              0.0\n",
       "Road_surface_conditions        0.0\n",
       "Light_conditions               0.0\n",
       "Weather_conditions             0.0\n",
       "Type_of_collision              0.0\n",
       "Number_of_vehicles_involved    0.0\n",
       "Number_of_casualties           0.0\n",
       "Vehicle_movement               0.0\n",
       "Cause_of_accident              0.0\n",
       "Accident_severity              0.0\n",
       "dtype: float64"
      ]
     },
     "execution_count": 25,
     "metadata": {},
     "output_type": "execute_result"
    }
   ],
   "source": [
    "df.isnull().sum() * 100 / len(df) "
   ]
  },
  {
   "cell_type": "code",
   "execution_count": 26,
   "metadata": {},
   "outputs": [],
   "source": [
    "df.to_csv(\"AfterProcessing.csv\")"
   ]
  }
 ],
 "metadata": {
  "kernelspec": {
   "display_name": "Python 3",
   "language": "python",
   "name": "python3"
  },
  "language_info": {
   "codemirror_mode": {
    "name": "ipython",
    "version": 3
   },
   "file_extension": ".py",
   "mimetype": "text/x-python",
   "name": "python",
   "nbconvert_exporter": "python",
   "pygments_lexer": "ipython3",
   "version": "3.9.13"
  },
  "orig_nbformat": 4
 },
 "nbformat": 4,
 "nbformat_minor": 2
}
